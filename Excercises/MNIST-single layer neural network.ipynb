{
 "cells": [
  {
   "cell_type": "code",
   "execution_count": 48,
   "metadata": {},
   "outputs": [],
   "source": [
    "import torch\n",
    "import torch.nn as nn\n",
    "import torchvision\n",
    "import torchvision.transforms as transforms\n",
    "import time"
   ]
  },
  {
   "cell_type": "code",
   "execution_count": 49,
   "metadata": {},
   "outputs": [],
   "source": [
    "batch_size=100"
   ]
  },
  {
   "cell_type": "code",
   "execution_count": 64,
   "metadata": {},
   "outputs": [],
   "source": [
    "transforms=transforms.Compose([transforms.ToTensor(),\n",
    "                              transforms.Normalize((0.1307,), (0.3081,))])\n",
    "                                                   \n",
    "\n",
    "#Load MNIST dataset from PyTorch torchvision dataset\n",
    "train_dataset = torchvision.datasets.MNIST(root='data/', \n",
    "                                           train=True,\n",
    "                                           transform=transforms,\n",
    "                                           download=True)\n",
    "test_dataset = torchvision.datasets.MNIST(root='data/', \n",
    "                                           train=False,\n",
    "                                          transform=transforms)\n",
    "train_loader = torch.utils.data.DataLoader(dataset=train_dataset, \n",
    "                                          batch_size=batch_size,\n",
    "                                          shuffle=True)\n",
    "test_loader = torch.utils.data.DataLoader(dataset=test_dataset, \n",
    "                                          batch_size=batch_size,\n",
    "                                          shuffle=False)"
   ]
  },
  {
   "cell_type": "code",
   "execution_count": 65,
   "metadata": {},
   "outputs": [],
   "source": [
    "class NeuralNet(nn.Module):\n",
    "    def __init__(self, input_size, hidden_size, num_classes):\n",
    "        super(NeuralNet, self).__init__()\n",
    "        self.fc1=nn.Linear(input_size, hidden_size)\n",
    "        self.relu=nn.ReLU()\n",
    "        self.fc2=nn.Linear(hidden_size, num_classes)\n",
    "        #self.softmax = nn.Softmax(dim=1) #calculates softmax across the columns\n",
    "        \n",
    "    def forward(self, x):\n",
    "        out=self.fc1(x)\n",
    "        out=self.relu(out)\n",
    "        out=self.fc2(out)\n",
    "        #out=self.softmax(out)\n",
    "        return out"
   ]
  },
  {
   "cell_type": "code",
   "execution_count": 66,
   "metadata": {},
   "outputs": [],
   "source": [
    "input_size=784\n",
    "hidden_size=500\n",
    "num_classes=10\n",
    "num_epochs=5\n",
    "learning_rate=0.001\n",
    "scheduler_step_size=10\n",
    "scheduler_gamma=0.1"
   ]
  },
  {
   "cell_type": "code",
   "execution_count": 67,
   "metadata": {},
   "outputs": [
    {
     "name": "stdout",
     "output_type": "stream",
     "text": [
      "Epoch 0, Time 18.8033, Loss: 1.2936, Train Accuracy: 0.5998, Test Accuracy: 0.7942\n",
      "Epoch 1, Time 37.7337, Loss: 0.8469, Train Accuracy: 0.8190, Test Accuracy: 0.8482\n",
      "Epoch 2, Time 59.1815, Loss: 0.6329, Train Accuracy: 0.8536, Test Accuracy: 0.8709\n",
      "Epoch 3, Time 81.1598, Loss: 0.6121, Train Accuracy: 0.8677, Test Accuracy: 0.8819\n",
      "Epoch 4, Time 102.5196, Loss: 0.5625, Train Accuracy: 0.8777, Test Accuracy: 0.8877\n"
     ]
    }
   ],
   "source": [
    "#CPU Version\n",
    "model = NeuralNet(input_size, hidden_size, num_classes)\n",
    "criterion = nn.CrossEntropyLoss() # CrossEntropyLoss which includes Softmax\n",
    "optimizer = torch.optim.SGD(model.parameters(), lr=learning_rate)\n",
    "scheduler = torch.optim.lr_scheduler.StepLR(optimizer, step_size=scheduler_step_size,\n",
    "                                           gamma=scheduler_gamma)\n",
    "total_step = len(train_loader)\n",
    "start_time = time.time()\n",
    "\n",
    "for epoch in range(num_epochs):\n",
    "    scheduler.step()\n",
    "    correct=0\n",
    "    total=0\n",
    "    for images, labels in train_loader:\n",
    "        #Move tensors to the configured device\n",
    "        images=images.reshape(-1, 28*28)\n",
    "        labels=labels\n",
    "        #Forward Pass\n",
    "        outputs=model(images)\n",
    "        loss=criterion(outputs, labels)\n",
    "        \"\"\"The higher the energy for a class, \n",
    "        the more the network thinks that the image is of the particular class. \n",
    "        So, let’s get the index of the highest energy\"\"\"\n",
    "        _,predicted=torch.max(outputs.data,1) #Returns the maximum value of all elements in the input tensor\n",
    "        total+=labels.size(0)\n",
    "        correct+=(predicted==labels).sum().item()\n",
    "        #Backward and optimize\n",
    "        optimizer.zero_grad() # zero the gradient buffers\n",
    "        loss.backward() #backpropagate the error\n",
    "        optimizer.step() # Does the update\n",
    "    train_accuracy=correct/total\n",
    "    '''You can also stop autograd from tracking history on Tensors with \n",
    "    .requires_grad=True by wrapping the code block in with torch.no_grad():'''\n",
    "    with torch.no_grad(): #will make all the operations in the block have no gradients\n",
    "        correct=0\n",
    "        total=0\n",
    "        for images, labels in test_loader:\n",
    "            images=images.reshape(-1, 28*28)\n",
    "            labels=labels\n",
    "            outputs=model(images)\n",
    "            _,predicted=torch.max(outputs.data,1)\n",
    "            total+=labels.size(0)\n",
    "            correct+=(predicted==labels).sum().item()\n",
    "    test_accuracy=correct/total\n",
    "    \n",
    "    print('Epoch {}, Time {:.4f}, Loss: {:.4f}, Train Accuracy: {:.4f}, Test Accuracy: {:.4f}'\n",
    "          .format(epoch, time.time()-start_time, loss.item(), train_accuracy, test_accuracy))\n",
    "#torch.save(model.state_dict(), 'epoch-{}.ckpt'.format(epoch))"
   ]
  },
  {
   "cell_type": "code",
   "execution_count": null,
   "metadata": {},
   "outputs": [],
   "source": []
  }
 ],
 "metadata": {
  "@webio": {
   "lastCommId": null,
   "lastKernelId": null
  },
  "kernelspec": {
   "display_name": "Python 3",
   "language": "python",
   "name": "python3"
  },
  "language_info": {
   "codemirror_mode": {
    "name": "ipython",
    "version": 3
   },
   "file_extension": ".py",
   "mimetype": "text/x-python",
   "name": "python",
   "nbconvert_exporter": "python",
   "pygments_lexer": "ipython3",
   "version": "3.7.3"
  }
 },
 "nbformat": 4,
 "nbformat_minor": 2
}
